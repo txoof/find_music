{
 "cells": [
  {
   "cell_type": "code",
   "execution_count": 14,
   "id": "13e13c3d",
   "metadata": {},
   "outputs": [],
   "source": [
    "import os\n",
    "from glob import glob\n",
    "from pydub import AudioSegment\n",
    "from pathlib import Path"
   ]
  },
  {
   "cell_type": "code",
   "execution_count": 33,
   "id": "a7b967a5",
   "metadata": {},
   "outputs": [],
   "source": [
    "def trim_last_10_seconds(mp3_file_path, output_file_path):\n",
    "    # Load the MP3 file\n",
    "    audio = AudioSegment.from_mp3(mp3_file_path)\n",
    "    \n",
    "    # Calculate the length to trim\n",
    "    trim_length = len(audio) - 10000  # 10000 milliseconds = 10 seconds\n",
    "    \n",
    "    # Trim the audio\n",
    "    trimmed_audio = audio[trim_length:]\n",
    "    \n",
    "    # Export the trimmed audio\n",
    "    trimmed_audio.export(output_file_path, format=\"mp3\")\n"
   ]
  },
  {
   "cell_type": "code",
   "execution_count": 36,
   "id": "6d9082c3",
   "metadata": {},
   "outputs": [],
   "source": [
    "trim_last_10_seconds(mp3_path/\"001-20240420_wesat_house_set_to_vote_on_aid_bills.mp3\", output_path/'foo.mp3')"
   ]
  },
  {
   "cell_type": "code",
   "execution_count": 6,
   "id": "9807733c",
   "metadata": {},
   "outputs": [],
   "source": [
    "def process_directory(mp3_files_path, trimmed_path):\n",
    "    # Find all MP3 files in the directory\n",
    "    mp3_files = glob(os.path.join(mp3_files_path, \"*.mp3\"))\n",
    "    \n",
    "    # Ensure the output directory exists\n",
    "    os.makedirs(trimmed_path, exist_ok=True)\n",
    "    \n",
    "    # Process each MP3 file\n",
    "    for mp3_file in mp3_files:\n",
    "        file_name = os.path.basename(mp3_file)\n",
    "        output_file_path = os.path.join(trimmed_path, file_name)\n",
    "        trim_last_10_seconds(mp3_file, output_file_path)\n"
   ]
  },
  {
   "cell_type": "code",
   "execution_count": 19,
   "id": "21a0d7f0",
   "metadata": {},
   "outputs": [],
   "source": [
    "mp3_path=Path(\"~/Downloads/npr\").expanduser()\n",
    "output_path=Path('/Users/aciuffo/Downloads/trimmed/')"
   ]
  },
  {
   "cell_type": "code",
   "execution_count": 37,
   "id": "69197198",
   "metadata": {},
   "outputs": [],
   "source": [
    "process_directory(\"/Users/aciuffo/Downloads/npr\", \"/Users/aciuffo/Downloads/trimmed\")"
   ]
  }
 ],
 "metadata": {
  "kernelspec": {
   "display_name": "find_music",
   "language": "python",
   "name": "find_music"
  },
  "language_info": {
   "codemirror_mode": {
    "name": "ipython",
    "version": 3
   },
   "file_extension": ".py",
   "mimetype": "text/x-python",
   "name": "python",
   "nbconvert_exporter": "python",
   "pygments_lexer": "ipython3",
   "version": "3.10.6"
  }
 },
 "nbformat": 4,
 "nbformat_minor": 5
}
